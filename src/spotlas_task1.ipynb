{
 "cells": [
  {
   "cell_type": "markdown",
   "metadata": {},
   "source": [
    "## Task 1: Understanding Fundamentals\n",
    "**Description:** Write a code using any language without applying AI libraries for displayed Multilayer Perceptron."
   ]
  },
  {
   "cell_type": "code",
   "execution_count": 1,
   "metadata": {},
   "outputs": [],
   "source": [
    "import numpy as np\n",
    "\n",
    "from network import Network\n",
    "from fc_layer import FCLayer\n",
    "from activation_layer import ActivationLayer\n",
    "from activations import f1, f1_prime, f2, f2_prime\n",
    "from losses import mse, mse_prime"
   ]
  },
  {
   "cell_type": "markdown",
   "metadata": {},
   "source": [
    "### Network"
   ]
  },
  {
   "cell_type": "code",
   "execution_count": 2,
   "metadata": {},
   "outputs": [],
   "source": [
    "net = Network()\n",
    "net.add(FCLayer(2,3))\n",
    "net.add(ActivationLayer(f1, f1_prime)) # tanh\n",
    "net.add(FCLayer(3,2))\n",
    "net.add(ActivationLayer(f2, f2_prime)) # sigmoid"
   ]
  },
  {
   "cell_type": "markdown",
   "metadata": {},
   "source": [
    "### Data"
   ]
  },
  {
   "cell_type": "code",
   "execution_count": 3,
   "metadata": {},
   "outputs": [],
   "source": [
    "np.random.seed(1)\n",
    "x_train = (np.random.randint(10,size=(10,2))*np.ones([10,2])).reshape(10,1,2)\n",
    "y_train = (np.random.randint(10,size=(10,2))*np.ones([10,2])).reshape(10,1,2)\n",
    "\n",
    "x_test = (np.random.randint(10,size=(5,2))*np.ones([5,2])).reshape(5,1,2)\n",
    "y_test = (np.random.randint(10,size=(5,2))*np.ones([5,2])).reshape(5,1,2)"
   ]
  },
  {
   "cell_type": "markdown",
   "metadata": {},
   "source": [
    "### Train model"
   ]
  },
  {
   "cell_type": "code",
   "execution_count": 4,
   "metadata": {},
   "outputs": [
    {
     "name": "stdout",
     "output_type": "stream",
     "text": [
      "epoch 1/10   error=40.632180\n",
      "epoch 2/10   error=39.751095\n",
      "epoch 3/10   error=39.700069\n",
      "epoch 4/10   error=39.675377\n",
      "epoch 5/10   error=39.660598\n",
      "epoch 6/10   error=39.650705\n",
      "epoch 7/10   error=39.643599\n",
      "epoch 8/10   error=39.638241\n",
      "epoch 9/10   error=39.634052\n",
      "epoch 10/10   error=39.630686\n"
     ]
    }
   ],
   "source": [
    "net.use(mse, mse_prime) # initialize loss function\n",
    "net.fit(x_train,y_train, epochs = 10, learning_rate=0.1)"
   ]
  }
 ],
 "metadata": {
  "interpreter": {
   "hash": "0cb40e781e312362eff528fa845c02808a47435732ff3c7b4c29a9d033ecae7b"
  },
  "kernelspec": {
   "display_name": "Python 3.10.1 ('envSpot': venv)",
   "language": "python",
   "name": "python3"
  },
  "language_info": {
   "codemirror_mode": {
    "name": "ipython",
    "version": 3
   },
   "file_extension": ".py",
   "mimetype": "text/x-python",
   "name": "python",
   "nbconvert_exporter": "python",
   "pygments_lexer": "ipython3",
   "version": "3.10.1"
  },
  "orig_nbformat": 4
 },
 "nbformat": 4,
 "nbformat_minor": 2
}
